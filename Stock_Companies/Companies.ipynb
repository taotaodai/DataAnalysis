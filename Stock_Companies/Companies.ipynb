{
 "cells": [
  {
   "cell_type": "code",
   "execution_count": 1,
   "metadata": {},
   "outputs": [],
   "source": [
    "from urllib.request import urlopen\n",
    "from lxml import etree\n",
    "import re\n",
    "import xlwt\n",
    "import xlrd\n",
    "from xlutils.copy import copy\n",
    "from selenium import webdriver\n",
    "from selenium.webdriver.support.wait import WebDriverWait\n",
    "from selenium.webdriver.support import expected_conditions as EC\n",
    "from selenium.webdriver.common.by import By\n",
    "\n",
    "from bs4 import BeautifulSoup\n",
    "import requests\n",
    "import json\n",
    "import time\n",
    "import sys\n",
    "from multiprocessing import Pool"
   ]
  },
  {
   "cell_type": "code",
   "execution_count": 8,
   "metadata": {
    "scrolled": false
   },
   "outputs": [],
   "source": [
    "# 使用了各种方法，去请求网页数据，都会被网站屏蔽。\n",
    "# 所以这里采用自动化测试点击下一页来获取每页数据\n",
    "browser = webdriver.Chrome()"
   ]
  },
  {
   "cell_type": "code",
   "execution_count": 9,
   "metadata": {},
   "outputs": [],
   "source": [
    "browser.get(\"http://data.10jqka.com.cn/financial/yjgg/###\")"
   ]
  },
  {
   "cell_type": "code",
   "execution_count": 10,
   "metadata": {},
   "outputs": [],
   "source": [
    "# wait = WebDriverWait(browser, 10)"
   ]
  },
  {
   "cell_type": "code",
   "execution_count": 11,
   "metadata": {},
   "outputs": [],
   "source": [
    "# workbook = copy(xlrd.open_workbook(\"data/上市公司.xls\"))\n",
    "workbook = xlwt.Workbook()"
   ]
  },
  {
   "cell_type": "code",
   "execution_count": 12,
   "metadata": {},
   "outputs": [],
   "source": [
    "heads = ['StockCode','StockName',\\\n",
    "        'Trade','PB','PE_S','PE_D','NetProfitDes','ROE','GrossProfitRate','CapitalStock','ScaleShareType']\n",
    "# 获取股票数据\n",
    "def getStockDataByType(stock_type):\n",
    "    # StockCode：股票代码\n",
    "    # StockName：股票简称\n",
    "    # Trade：行业\n",
    "    # PB：市净率\n",
    "    # PE_S：静态市盈率\n",
    "    # PE_D：动态市盈率\n",
    "    # NetProfitDes：净利润描述（包括净利润和增长比率）\n",
    "    # ROE：净资产收益率\n",
    "    # GrossProfitRate：毛利率\n",
    "    # CapitalStock：股本\n",
    "    # ScaleShareType：类型（大盘股、小盘股）\n",
    "    \n",
    "    # Proceeds：营业收入\n",
    "    # ProceedsYOY：营业收入-同比增长\n",
    "    # ProceedsQOQ：营业收入-环比增长\n",
    "    # NetProfit：净利润\n",
    "    # NetProfitYOY：净利润-同比增长\n",
    "    # NetProfitQOQ：净利润-环比增长\n",
    "    # EarningsPerShare：每股收益\n",
    "    # NetAssetValuePerShare：每股净资产\n",
    "    # MoneyFlowPerShare：每股现金流量\n",
    "    # GrossProfitRate：销售毛利率\n",
    "    boards = browser.find_elements_by_class_name(\"J-board-item\")\n",
    "    \n",
    "    for i,board in enumerate(boards):\n",
    "        board_name =board.text\n",
    "        if board_name == stock_type:\n",
    "            sheet = workbook.add_sheet(board_name) \n",
    "            for h in range(len(heads)):\n",
    "                sheet.write(0, h, heads[h]) \n",
    "            board.click()\n",
    "            time.sleep(3)\n",
    "            print(\"正在获取板块：\"+board_name+\"...\")\n",
    "            total_page = int(browser.find_element_by_class_name(\"page_info\").text.split(\"/\")[1])\n",
    "#             total_page = 2\n",
    "            for page in range(1,total_page+1):\n",
    "                comapnies = browser.find_elements_by_class_name(\"J_showCanvas\")\n",
    "                page_size = len(comapnies)\n",
    "#                 print(\"第\"+str(page)+\"页...\")\n",
    "                for j,company in enumerate(comapnies):\n",
    "                    printProgress(\"第\"+str(page)+\"页-\"+\"第\"+str(j)+\"条...\")\n",
    "                    code = browser.find_element_by_xpath('//*[@id=\"J-ajax-main\"]/table/tbody/tr['+str(j+1)+']/td[2]/a')\n",
    "                    row = (page-1)*50+1+j\n",
    "                    sheet.write(row,0,code.text)\n",
    "                    sheet.write(row,1,company.text)\n",
    "                    getBaseData(code.text,row,2,sheet)\n",
    "                \n",
    "                page_btns = browser.find_elements_by_class_name(\"changePage\")\n",
    "                subscript = 0\n",
    "                if page != total_page+1:\n",
    "                    for page_btn in page_btns:\n",
    "                        if page_btn.text == \"下一页\":\n",
    "                            subscript = page_btns.index(page_btn)\n",
    "                    page_btns[subscript].click()\n",
    "                    time.sleep(3)\n",
    "#                         wait.until(EC.element_to_be_clickable(By.))\n",
    "    browser.close()\n",
    "    browser.quit()\n",
    "\n",
    "def getBaseData(code,row,index,sheet):\n",
    "    try:\n",
    "        #设置用户代理，不然会被网站屏蔽\n",
    "        headers = {\"user-agent\":\"PostmanRuntime/7.13.0\"}\n",
    "        response_1 = requests.get(\"http://basic.10jqka.com.cn/\"+code+\"/company.html\",headers = headers)\n",
    "        response_1.encoding = 'gbk'\n",
    "        e_1 = etree.HTML(response_1.text)\n",
    "        # 获取行业\n",
    "        try:\n",
    "            trade = e_1.xpath('//*[@id=\"detail\"]/div[2]/table/tbody/tr[2]/td[2]/span')[0]\n",
    "            sheet.write(row,index,trade.text)\n",
    "        except IndexError:\n",
    "            trade = e_1.xpath('//*[@id=\"detail\"]/div[3]/table/tbody/tr[2]/td[2]/span')[0]\n",
    "            sheet.write(row,index,trade.text)\n",
    "            \n",
    "#         #上市时间\n",
    "#         ttm = e_1.xpath('//*[@id=\"publish\"]/div[2]/table/tbody/tr[2]/td[1]/span')[0]\n",
    "#         sheet.write(row,index+1,ttm.text)\n",
    "\n",
    "        # 获取市净率\n",
    "        response_2 = requests.get(\"http://basic.10jqka.com.cn/\"+code+\"/\",headers = headers)\n",
    "        response_2.encoding = 'gbk'\n",
    "        e_2 = etree.HTML(response_2.text)\n",
    "        pb = e_2.xpath('//*[@id=\"sjl\"]')[0]\n",
    "        sheet.write(row,index+1,pb.text)\n",
    "        # 获取市盈率\n",
    "        # 静态市盈率\n",
    "        pe_s = e_2.xpath('//*[@id=\"jtsyl\"]')[0]\n",
    "        sheet.write(row,index+2,pe_s.text)\n",
    "        # 动态市盈率\n",
    "        pe_d = e_2.xpath('//*[@id=\"dtsyl\"]')[0]\n",
    "        sheet.write(row,index+3,pe_d.text)\n",
    "        # 净利润\n",
    "        np_des = e_2.xpath('//*[@id=\"profile\"]/div[2]/table[2]/tbody/tr[3]/td[2]/span[2]')[0]\n",
    "        sheet.write(row,index+4,np_des.text)\n",
    "\n",
    "        # 净资产收益率\n",
    "        roe = e_2.xpath('//*[@id=\"profile\"]/div[2]/table[2]/tbody/tr[4]/td[3]/span[2]')[0]\n",
    "        sheet.write(row,index+5,roe.text)\n",
    "        \n",
    "        #毛利率\n",
    "        gpr = e_2.xpath('//*[@id=\"profile\"]/div[2]/table[2]/tbody/tr[4]/td[2]/span[2]')[0]\n",
    "        sheet.write(row,index+6,gpr.text)\n",
    "        #股本\n",
    "        cs = e_2.xpath('//*[@id=\"profile\"]/div[2]/table[2]/tbody/tr[2]/td[4]/span[2]/text()')[0]\n",
    "        sheet.write(row,index+7,str(cs))\n",
    "        #类型\n",
    "        sst = e_2.xpath('//*[@id=\"profile\"]/div[2]/table[2]/tbody/tr[1]/td[4]/span[2]')[0]\n",
    "        sheet.write(row,index+8,sst.text)\n",
    "\n",
    "    except ConnectionResetError:\n",
    "        print(code)\n",
    "def printProgress(content):\n",
    "    sys.stdout.write(\"\\r\" +content)\n",
    "    sys.stdout.flush()"
   ]
  },
  {
   "cell_type": "code",
   "execution_count": 13,
   "metadata": {
    "scrolled": false
   },
   "outputs": [
    {
     "name": "stdout",
     "output_type": "stream",
     "text": [
      "正在获取板块：深市A股...\n",
      "第10页-第15条..."
     ]
    }
   ],
   "source": [
    "# dir_path = 'E:/wangtao/PythonWorkSpace/SpiderSpace/Stock_Companies/data/'\n",
    "dir_path = 'D:/wt/PythonWorkSpace/DataAnalysis/Stock_Companies/data/'\n",
    "\n",
    "# getStockDataByType(\"沪市A股\")\n",
    "# workbook.save(dir_path+'上市公司沪市.xls')\n",
    "\n",
    "getStockDataByType(\"深市A股\")\n",
    "workbook.save(dir_path+'上市公司深市.xls')\n",
    "\n",
    "# getStockDataByType(\"中小板\")\n",
    "# workbook.save(dir_path+'上市公司中小板.xls')\n",
    "\n",
    "# getStockDataByType(\"创业板\")\n",
    "# workbook.save(dir_path+'上市公司创业板.xls')"
   ]
  },
  {
   "cell_type": "code",
   "execution_count": 29,
   "metadata": {},
   "outputs": [],
   "source": [
    "headers = {\"user-agent\":\"PostmanRuntime/7.13.0\"}\n",
    "response = requests.get(\"http://basic.10jqka.com.cn/000687/company.html\",headers = headers)\n",
    "# response.encoding = response.apparent_encoding\n",
    "response.encoding = 'gbk'\n",
    "\n",
    "# response.apparent_encoding"
   ]
  },
  {
   "cell_type": "code",
   "execution_count": 31,
   "metadata": {},
   "outputs": [],
   "source": [
    "e = etree.HTML(response.text)"
   ]
  },
  {
   "cell_type": "code",
   "execution_count": 40,
   "metadata": {},
   "outputs": [
    {
     "data": {
      "text/plain": [
       "[]"
      ]
     },
     "execution_count": 40,
     "metadata": {},
     "output_type": "execute_result"
    }
   ],
   "source": [
    "e.xpath('//*[@id=\"publish\"]/div[2]/table/tbody/tr[4]/td/div[2]/strong')"
   ]
  },
  {
   "cell_type": "code",
   "execution_count": 83,
   "metadata": {},
   "outputs": [],
   "source": [
    "trade = e.xpath('//*[@id=\"sjl\"]')"
   ]
  },
  {
   "cell_type": "code",
   "execution_count": 41,
   "metadata": {
    "scrolled": false
   },
   "outputs": [],
   "source": [
    "# response.text"
   ]
  },
  {
   "cell_type": "code",
   "execution_count": null,
   "metadata": {},
   "outputs": [],
   "source": []
  },
  {
   "cell_type": "code",
   "execution_count": null,
   "metadata": {},
   "outputs": [],
   "source": []
  }
 ],
 "metadata": {
  "kernelspec": {
   "display_name": "Python 3",
   "language": "python",
   "name": "python3"
  },
  "language_info": {
   "codemirror_mode": {
    "name": "ipython",
    "version": 3
   },
   "file_extension": ".py",
   "mimetype": "text/x-python",
   "name": "python",
   "nbconvert_exporter": "python",
   "pygments_lexer": "ipython3",
   "version": "3.7.1"
  }
 },
 "nbformat": 4,
 "nbformat_minor": 2
}
