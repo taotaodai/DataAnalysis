{
 "cells": [
  {
   "cell_type": "code",
   "execution_count": 1,
   "metadata": {},
   "outputs": [],
   "source": [
    "import requests,time,datetime\n",
    "import sys\n",
    "import numpy as np\n",
    "import pandas as pd\n",
    "import matplotlib.pyplot as plt\n",
    "\n",
    "import utils.DateAndTimeUtil as datu\n",
    "import utils.CommonUtil as cu\n",
    "import utils.StockSpider as ss"
   ]
  },
  {
   "cell_type": "code",
   "execution_count": 14,
   "metadata": {},
   "outputs": [],
   "source": [
    "df_hsA = pd.read_excel(\"data/沪深A股.xls\",converters= {u'StockCode':str})"
   ]
  },
  {
   "cell_type": "code",
   "execution_count": 15,
   "metadata": {},
   "outputs": [],
   "source": [
    "df = df_hsA"
   ]
  },
  {
   "cell_type": "code",
   "execution_count": 4,
   "metadata": {},
   "outputs": [
    {
     "name": "stdout",
     "output_type": "stream",
     "text": [
      "正在获取：沪深A股...请勿关闭浏览器\n",
      "第2页-第19条..."
     ]
    },
    {
     "name": "stderr",
     "output_type": "stream",
     "text": [
      "Traceback (most recent call last):\n",
      "  File \"E:\\PythonWorkSpace\\DataAnalysis\\Stock_Companies\\utils\\StockSpider.py\", line 136, in getStockDataByType\n",
      "    print('数据下载完毕，已保存到'+file_path)\n",
      "UnboundLocalError: local variable 'file_path' referenced before assignment\n"
     ]
    }
   ],
   "source": [
    "# dir_path = 'E:/wangtao/PythonWorkSpace/SpiderSpace/Stock_Companies/data/'\n",
    "# ss.getAnnualReports(dir_path,df,'2017')\n",
    "\n",
    "# ss.getStockDataByType('E:/wangtao/PythonWorkSpace/SpiderSpace/Stock_Companies/data/')\n",
    "ss.getStockDataByType('E:/PythonWorkSpace/DataAnalysis/Stock_Companies/data/')\n"
   ]
  },
  {
   "cell_type": "code",
   "execution_count": 17,
   "metadata": {},
   "outputs": [],
   "source": [
    "# 显示所有列\n",
    "pd.set_option('display.max_columns', None)\n",
    "# 显示所有行\n",
    "pd.set_option('display.max_rows', None)"
   ]
  },
  {
   "cell_type": "code",
   "execution_count": 18,
   "metadata": {
    "scrolled": true
   },
   "outputs": [],
   "source": [
    "df_2014 = pd.read_excel(\"data/2014年报.xls\",converters= {u'stock_code':str})\n",
    "df_2015 = pd.read_excel(\"data/2015年报.xls\",converters= {u'stock_code':str})\n",
    "df_2016 = pd.read_excel(\"data/2016年报.xls\",converters= {u'stock_code':str})\n",
    "df_2017 = pd.read_excel(\"data/2017年报.xls\",converters= {u'stock_code':str})\n",
    "df_2018 = pd.read_excel(\"data/2018年报.xls\",converters= {u'stock_code':str})"
   ]
  },
  {
   "cell_type": "code",
   "execution_count": 19,
   "metadata": {},
   "outputs": [],
   "source": [
    "code_list = []\n",
    "reports = [df_2014,df_2015,df_2016,df_2017,df_2018]\n",
    "for df_report in reports:\n",
    "    codes = []\n",
    "    for index, row in df_report.iterrows():\n",
    "        # 净资产收益率大于15%\n",
    "        if (row['stock_code'][0] != '3') & \\\n",
    "            (row['avg_roe'] > 0.15) & \\\n",
    "           (row['total_revenue_gr'] > 0) & \\\n",
    "            (row['basic_eps'] > 0) & \\\n",
    "            (row['np_per_share'] > 0) & \\\n",
    "            (row['operate_cash_flow_ps'] > 0):\n",
    "#             (row['operate_cash_flow_ps_gr'] > 0):\n",
    "            #满足条件的加入\n",
    "            codes.append(row['stock_code'])\n",
    "            \n",
    "    code_list.append(codes)"
   ]
  },
  {
   "cell_type": "code",
   "execution_count": 20,
   "metadata": {},
   "outputs": [],
   "source": [
    "intersection = code_list[0]\n",
    "# 取每年的交集\n",
    "for i in range(1,len(code_list)):\n",
    "    intersection = list(set(intersection).intersection(set(code_list[i])))"
   ]
  },
  {
   "cell_type": "code",
   "execution_count": 21,
   "metadata": {},
   "outputs": [],
   "source": [
    "df_target = df[df['StockCode'].apply(lambda x: (x in intersection))]"
   ]
  },
  {
   "cell_type": "code",
   "execution_count": 22,
   "metadata": {
    "scrolled": false
   },
   "outputs": [
    {
     "data": {
      "text/plain": [
       "(86, 19)"
      ]
     },
     "execution_count": 22,
     "metadata": {},
     "output_type": "execute_result"
    }
   ],
   "source": [
    "df_target.shape"
   ]
  },
  {
   "cell_type": "code",
   "execution_count": 23,
   "metadata": {},
   "outputs": [],
   "source": [
    "df_target = df_target[df_target['PE_D'].apply(lambda x:(x != '未公布') & (x != '0'))]\n",
    "df_target = df_target[df_target['PE_S'].apply(lambda x:(x != '未公布') & (x != '0'))]\n",
    "# 新增市盈率中位数\n",
    "df_target['PE_M'] = df_target['StockCode'].apply(lambda x:ss.getPEMedian(x))\n",
    "df_target = df_target[df_target['PE_M'] != 0]\n",
    "\n",
    "df_target['pe_rate'] = df_target.apply(lambda x:(float(x['PE_D']) / x['PE_M']),axis=1)\n",
    "df_target = df_target[df_target['pe_rate'] < 0.6]"
   ]
  },
  {
   "cell_type": "code",
   "execution_count": 24,
   "metadata": {
    "scrolled": true
   },
   "outputs": [
    {
     "data": {
      "text/plain": [
       "(5, 21)"
      ]
     },
     "execution_count": 24,
     "metadata": {},
     "output_type": "execute_result"
    }
   ],
   "source": [
    "df_target.shape"
   ]
  },
  {
   "cell_type": "code",
   "execution_count": 25,
   "metadata": {
    "scrolled": true
   },
   "outputs": [
    {
     "data": {
      "text/html": [
       "<div>\n",
       "<style scoped>\n",
       "    .dataframe tbody tr th:only-of-type {\n",
       "        vertical-align: middle;\n",
       "    }\n",
       "\n",
       "    .dataframe tbody tr th {\n",
       "        vertical-align: top;\n",
       "    }\n",
       "\n",
       "    .dataframe thead th {\n",
       "        text-align: right;\n",
       "    }\n",
       "</style>\n",
       "<table border=\"1\" class=\"dataframe\">\n",
       "  <thead>\n",
       "    <tr style=\"text-align: right;\">\n",
       "      <th></th>\n",
       "      <th>StockCode</th>\n",
       "      <th>StockName</th>\n",
       "      <th>Price</th>\n",
       "      <th>PriceLimit</th>\n",
       "      <th>QuantityRelativeR</th>\n",
       "      <th>TurnoverRate</th>\n",
       "      <th>Trade</th>\n",
       "      <th>PB</th>\n",
       "      <th>PE_S</th>\n",
       "      <th>PE_D</th>\n",
       "      <th>EarningsPerShare</th>\n",
       "      <th>NetProfitDes</th>\n",
       "      <th>ROE</th>\n",
       "      <th>GrossProfitRate</th>\n",
       "      <th>NetAssetValuePerShare</th>\n",
       "      <th>CapitalStock</th>\n",
       "      <th>ScaleShareType</th>\n",
       "      <th>FinanceAnalize</th>\n",
       "      <th>MoneyFlowPerShare</th>\n",
       "      <th>PE_M</th>\n",
       "      <th>pe_rate</th>\n",
       "    </tr>\n",
       "  </thead>\n",
       "  <tbody>\n",
       "    <tr>\n",
       "      <td>1635</td>\n",
       "      <td>600566</td>\n",
       "      <td>济川药业</td>\n",
       "      <td>24.15</td>\n",
       "      <td>-0.29%</td>\n",
       "      <td>0.76</td>\n",
       "      <td>0.57%</td>\n",
       "      <td>医药生物 — 中药Ⅱ</td>\n",
       "      <td>3.45</td>\n",
       "      <td>11.66</td>\n",
       "      <td>11.306</td>\n",
       "      <td>1.60元</td>\n",
       "      <td>13.06亿元\\n\\t\\t\\t\\t\\t\\t\\n\\t\\t\\t\\t\\t\\t同比下降0.24%\\t...</td>\n",
       "      <td>23.05%</td>\n",
       "      <td>84.45%</td>\n",
       "      <td>7.00元</td>\n",
       "      <td>8.15亿股</td>\n",
       "      <td>\\n\\t\\t\\t\\t\\t\\t\\t\\t\\t\\t\\t\\t\\t大盘股\\t\\t\\t\\t\\t\\t\\t\\...</td>\n",
       "      <td>三线蓝筹,白马股,绩优股,</td>\n",
       "      <td>2.19元</td>\n",
       "      <td>27.660</td>\n",
       "      <td>0.408749</td>\n",
       "    </tr>\n",
       "    <tr>\n",
       "      <td>2099</td>\n",
       "      <td>002262</td>\n",
       "      <td>恩华药业</td>\n",
       "      <td>11.86</td>\n",
       "      <td>-0.67%</td>\n",
       "      <td>0.97</td>\n",
       "      <td>1.01%</td>\n",
       "      <td>医药生物 — 化学制药</td>\n",
       "      <td>3.48</td>\n",
       "      <td>23.04</td>\n",
       "      <td>17.412</td>\n",
       "      <td>0.52元</td>\n",
       "      <td>5.21亿元\\n\\t\\t\\t\\t\\t\\t\\n\\t\\t\\t\\t\\t\\t同比增长23.34%\\t...</td>\n",
       "      <td>16.16%</td>\n",
       "      <td>60.53%</td>\n",
       "      <td>3.41元</td>\n",
       "      <td>10.19亿股</td>\n",
       "      <td>\\n\\t\\t\\t\\t\\t\\t\\t\\t\\t\\t\\t\\t\\t中盘股\\t\\t\\t\\t\\t\\t\\t\\...</td>\n",
       "      <td>绩优股,</td>\n",
       "      <td>0.55元</td>\n",
       "      <td>41.105</td>\n",
       "      <td>0.423598</td>\n",
       "    </tr>\n",
       "    <tr>\n",
       "      <td>3673</td>\n",
       "      <td>000963</td>\n",
       "      <td>华东医药</td>\n",
       "      <td>22.21</td>\n",
       "      <td>-10.01%</td>\n",
       "      <td>6.16</td>\n",
       "      <td>5.06%</td>\n",
       "      <td>医药生物 — 化学制药</td>\n",
       "      <td>3.33</td>\n",
       "      <td>17.14</td>\n",
       "      <td>13.170</td>\n",
       "      <td>1.26元</td>\n",
       "      <td>22.13亿元\\n\\t\\t\\t\\t\\t\\t\\n\\t\\t\\t\\t\\t\\t同比增长22.33%\\...</td>\n",
       "      <td>20.14%</td>\n",
       "      <td>32.34%</td>\n",
       "      <td>6.66元</td>\n",
       "      <td>17.50亿股</td>\n",
       "      <td>\\n\\t\\t\\t\\t\\t\\t\\t\\t\\t\\t\\t\\t\\t大盘股\\t\\t\\t\\t\\t\\t\\t\\...</td>\n",
       "      <td>三线蓝筹,</td>\n",
       "      <td>0.52元</td>\n",
       "      <td>28.225</td>\n",
       "      <td>0.466608</td>\n",
       "    </tr>\n",
       "    <tr>\n",
       "      <td>1852</td>\n",
       "      <td>002572</td>\n",
       "      <td>索菲亚</td>\n",
       "      <td>20.98</td>\n",
       "      <td>-0.47%</td>\n",
       "      <td>0.67</td>\n",
       "      <td>1.53%</td>\n",
       "      <td>轻工制造 — 家用轻工</td>\n",
       "      <td>3.77</td>\n",
       "      <td>19.96</td>\n",
       "      <td>19.943</td>\n",
       "      <td>0.79元</td>\n",
       "      <td>7.20亿元\\n\\t\\t\\t\\t\\t\\t\\n\\t\\t\\t\\t\\t\\t同比增长4.05%\\t\\...</td>\n",
       "      <td>14.80%</td>\n",
       "      <td>37.25%</td>\n",
       "      <td>5.57元</td>\n",
       "      <td>9.12亿股</td>\n",
       "      <td>\\n\\t\\t\\t\\t\\t\\t\\t\\t\\t\\t\\t\\t\\t中盘股\\t\\t\\t\\t\\t\\t\\t\\...</td>\n",
       "      <td>绩优股,</td>\n",
       "      <td>0.66元</td>\n",
       "      <td>39.520</td>\n",
       "      <td>0.504631</td>\n",
       "    </tr>\n",
       "    <tr>\n",
       "      <td>2198</td>\n",
       "      <td>603886</td>\n",
       "      <td>元祖股份</td>\n",
       "      <td>18.47</td>\n",
       "      <td>-0.75%</td>\n",
       "      <td>0.49</td>\n",
       "      <td>0.80%</td>\n",
       "      <td>食品饮料 — 食品加工</td>\n",
       "      <td>2.92</td>\n",
       "      <td>18.34</td>\n",
       "      <td>12.075</td>\n",
       "      <td>1.15元</td>\n",
       "      <td>2.75亿元\\n\\t\\t\\t\\t\\t\\t\\n\\t\\t\\t\\t\\t\\t同比增长6.94%\\t\\...</td>\n",
       "      <td>18.56%</td>\n",
       "      <td>65.91%</td>\n",
       "      <td>6.33元</td>\n",
       "      <td>2.40亿股</td>\n",
       "      <td>\\n\\t\\t\\t\\t\\t\\t\\t\\t\\t\\t\\t\\t\\t小盘股\\t\\t\\t\\t\\t\\t\\t\\...</td>\n",
       "      <td>绩优股,</td>\n",
       "      <td>2.64元</td>\n",
       "      <td>22.240</td>\n",
       "      <td>0.542941</td>\n",
       "    </tr>\n",
       "  </tbody>\n",
       "</table>\n",
       "</div>"
      ],
      "text/plain": [
       "     StockCode StockName  Price PriceLimit QuantityRelativeR TurnoverRate  \\\n",
       "1635    600566      济川药业  24.15     -0.29%              0.76        0.57%   \n",
       "2099    002262      恩华药业  11.86     -0.67%              0.97        1.01%   \n",
       "3673    000963      华东医药  22.21    -10.01%              6.16        5.06%   \n",
       "1852    002572       索菲亚  20.98     -0.47%              0.67        1.53%   \n",
       "2198    603886      元祖股份  18.47     -0.75%              0.49        0.80%   \n",
       "\n",
       "            Trade    PB   PE_S    PE_D EarningsPerShare  \\\n",
       "1635   医药生物 — 中药Ⅱ  3.45  11.66  11.306            1.60元   \n",
       "2099  医药生物 — 化学制药  3.48  23.04  17.412            0.52元   \n",
       "3673  医药生物 — 化学制药  3.33  17.14  13.170            1.26元   \n",
       "1852  轻工制造 — 家用轻工  3.77  19.96  19.943            0.79元   \n",
       "2198  食品饮料 — 食品加工  2.92  18.34  12.075            1.15元   \n",
       "\n",
       "                                           NetProfitDes     ROE  \\\n",
       "1635  13.06亿元\\n\\t\\t\\t\\t\\t\\t\\n\\t\\t\\t\\t\\t\\t同比下降0.24%\\t...  23.05%   \n",
       "2099  5.21亿元\\n\\t\\t\\t\\t\\t\\t\\n\\t\\t\\t\\t\\t\\t同比增长23.34%\\t...  16.16%   \n",
       "3673  22.13亿元\\n\\t\\t\\t\\t\\t\\t\\n\\t\\t\\t\\t\\t\\t同比增长22.33%\\...  20.14%   \n",
       "1852  7.20亿元\\n\\t\\t\\t\\t\\t\\t\\n\\t\\t\\t\\t\\t\\t同比增长4.05%\\t\\...  14.80%   \n",
       "2198  2.75亿元\\n\\t\\t\\t\\t\\t\\t\\n\\t\\t\\t\\t\\t\\t同比增长6.94%\\t\\...  18.56%   \n",
       "\n",
       "     GrossProfitRate NetAssetValuePerShare CapitalStock  \\\n",
       "1635          84.45%                 7.00元       8.15亿股   \n",
       "2099          60.53%                 3.41元      10.19亿股   \n",
       "3673          32.34%                 6.66元      17.50亿股   \n",
       "1852          37.25%                 5.57元       9.12亿股   \n",
       "2198          65.91%                 6.33元       2.40亿股   \n",
       "\n",
       "                                         ScaleShareType FinanceAnalize  \\\n",
       "1635  \\n\\t\\t\\t\\t\\t\\t\\t\\t\\t\\t\\t\\t\\t大盘股\\t\\t\\t\\t\\t\\t\\t\\...  三线蓝筹,白马股,绩优股,   \n",
       "2099  \\n\\t\\t\\t\\t\\t\\t\\t\\t\\t\\t\\t\\t\\t中盘股\\t\\t\\t\\t\\t\\t\\t\\...           绩优股,   \n",
       "3673  \\n\\t\\t\\t\\t\\t\\t\\t\\t\\t\\t\\t\\t\\t大盘股\\t\\t\\t\\t\\t\\t\\t\\...          三线蓝筹,   \n",
       "1852  \\n\\t\\t\\t\\t\\t\\t\\t\\t\\t\\t\\t\\t\\t中盘股\\t\\t\\t\\t\\t\\t\\t\\...           绩优股,   \n",
       "2198  \\n\\t\\t\\t\\t\\t\\t\\t\\t\\t\\t\\t\\t\\t小盘股\\t\\t\\t\\t\\t\\t\\t\\...           绩优股,   \n",
       "\n",
       "     MoneyFlowPerShare    PE_M   pe_rate  \n",
       "1635             2.19元  27.660  0.408749  \n",
       "2099             0.55元  41.105  0.423598  \n",
       "3673             0.52元  28.225  0.466608  \n",
       "1852             0.66元  39.520  0.504631  \n",
       "2198             2.64元  22.240  0.542941  "
      ]
     },
     "execution_count": 25,
     "metadata": {},
     "output_type": "execute_result"
    }
   ],
   "source": [
    "df_target.sort_values(by=['pe_rate'],ascending=True)"
   ]
  },
  {
   "cell_type": "code",
   "execution_count": 57,
   "metadata": {},
   "outputs": [
    {
     "data": {
      "text/plain": [
       "(98, 20)"
      ]
     },
     "execution_count": 57,
     "metadata": {},
     "output_type": "execute_result"
    }
   ],
   "source": [
    "df_target.shape"
   ]
  },
  {
   "cell_type": "code",
   "execution_count": null,
   "metadata": {},
   "outputs": [],
   "source": []
  }
 ],
 "metadata": {
  "kernelspec": {
   "display_name": "Python 3",
   "language": "python",
   "name": "python3"
  },
  "language_info": {
   "codemirror_mode": {
    "name": "ipython",
    "version": 3
   },
   "file_extension": ".py",
   "mimetype": "text/x-python",
   "name": "python",
   "nbconvert_exporter": "python",
   "pygments_lexer": "ipython3",
   "version": "3.7.4"
  }
 },
 "nbformat": 4,
 "nbformat_minor": 2
}
