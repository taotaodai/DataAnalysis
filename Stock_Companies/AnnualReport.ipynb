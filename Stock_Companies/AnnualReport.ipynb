{
 "cells": [
  {
   "cell_type": "code",
   "execution_count": 1,
   "metadata": {},
   "outputs": [],
   "source": [
    "import requests,time,datetime\n",
    "import sys\n",
    "import numpy as np\n",
    "import pandas as pd\n",
    "import matplotlib.pyplot as plt\n",
    "\n",
    "import utils.DateAndTimeUtil as datu\n",
    "import utils.CommonUtil as cu\n",
    "import utils.StockSpider as ss"
   ]
  },
  {
   "cell_type": "code",
   "execution_count": 14,
   "metadata": {},
   "outputs": [],
   "source": [
    "df_hsA = pd.read_excel(\"data/沪深A股.xls\",converters= {u'StockCode':str})"
   ]
  },
  {
   "cell_type": "code",
   "execution_count": 15,
   "metadata": {},
   "outputs": [],
   "source": [
    "df = df_hsA"
   ]
  },
  {
   "cell_type": "code",
   "execution_count": 2,
   "metadata": {},
   "outputs": [
    {
     "name": "stdout",
     "output_type": "stream",
     "text": [
      "正在获取：沪深A股...请勿关闭浏览器\n",
      "第1页-第3条..."
     ]
    },
    {
     "name": "stderr",
     "output_type": "stream",
     "text": [
      "Traceback (most recent call last):\n",
      "  File \"E:\\wangtao\\PythonWorkSpace\\SpiderSpace\\Stock_Companies\\utils\\StockSpider.py\", line 123, in getStockDataByType\n",
      "    sheet.write(row_index,1,company.text)\n",
      "  File \"D:\\Anaconda3\\lib\\site-packages\\selenium\\webdriver\\remote\\webelement.py\", line 76, in text\n",
      "    return self._execute(Command.GET_ELEMENT_TEXT)['value']\n",
      "  File \"D:\\Anaconda3\\lib\\site-packages\\selenium\\webdriver\\remote\\webelement.py\", line 633, in _execute\n",
      "    return self._parent.execute(command, params)\n",
      "  File \"D:\\Anaconda3\\lib\\site-packages\\selenium\\webdriver\\remote\\webdriver.py\", line 321, in execute\n",
      "    self.error_handler.check_response(response)\n",
      "  File \"D:\\Anaconda3\\lib\\site-packages\\selenium\\webdriver\\remote\\errorhandler.py\", line 242, in check_response\n",
      "    raise exception_class(message, screen, stacktrace)\n",
      "selenium.common.exceptions.NoSuchWindowException: Message: no such window: target window already closed\n",
      "from unknown error: web view not found\n",
      "  (Session info: chrome=78.0.3904.108)\n",
      "\n"
     ]
    },
    {
     "ename": "WebDriverException",
     "evalue": "Message: chrome not reachable\n  (Session info: chrome=78.0.3904.108)\n",
     "output_type": "error",
     "traceback": [
      "\u001b[1;31m---------------------------------------------------------------------------\u001b[0m",
      "\u001b[1;31mWebDriverException\u001b[0m                        Traceback (most recent call last)",
      "\u001b[1;32m<ipython-input-2-f38357706152>\u001b[0m in \u001b[0;36m<module>\u001b[1;34m\u001b[0m\n\u001b[0;32m      2\u001b[0m \u001b[1;31m# ss.getAnnualReports(dir_path,df,'2017')\u001b[0m\u001b[1;33m\u001b[0m\u001b[1;33m\u001b[0m\u001b[1;33m\u001b[0m\u001b[0m\n\u001b[0;32m      3\u001b[0m \u001b[1;33m\u001b[0m\u001b[0m\n\u001b[1;32m----> 4\u001b[1;33m \u001b[0mss\u001b[0m\u001b[1;33m.\u001b[0m\u001b[0mgetStockDataByType\u001b[0m\u001b[1;33m(\u001b[0m\u001b[1;34m'E:/wangtao/PythonWorkSpace/SpiderSpace/Stock_Companies/data/'\u001b[0m\u001b[1;33m)\u001b[0m\u001b[1;33m\u001b[0m\u001b[1;33m\u001b[0m\u001b[0m\n\u001b[0m",
      "\u001b[1;32mE:\\wangtao\\PythonWorkSpace\\SpiderSpace\\Stock_Companies\\utils\\StockSpider.py\u001b[0m in \u001b[0;36mgetStockDataByType\u001b[1;34m(dir_path, stock_type)\u001b[0m\n\u001b[0;32m    140\u001b[0m     \u001b[0mworkbook\u001b[0m\u001b[1;33m.\u001b[0m\u001b[0msave\u001b[0m\u001b[1;33m(\u001b[0m\u001b[0mfile_path\u001b[0m\u001b[1;33m)\u001b[0m\u001b[1;33m\u001b[0m\u001b[1;33m\u001b[0m\u001b[0m\n\u001b[0;32m    141\u001b[0m \u001b[1;33m\u001b[0m\u001b[0m\n\u001b[1;32m--> 142\u001b[1;33m     \u001b[0mbrowser\u001b[0m\u001b[1;33m.\u001b[0m\u001b[0mclose\u001b[0m\u001b[1;33m(\u001b[0m\u001b[1;33m)\u001b[0m\u001b[1;33m\u001b[0m\u001b[1;33m\u001b[0m\u001b[0m\n\u001b[0m\u001b[0;32m    143\u001b[0m     \u001b[0mbrowser\u001b[0m\u001b[1;33m.\u001b[0m\u001b[0mquit\u001b[0m\u001b[1;33m(\u001b[0m\u001b[1;33m)\u001b[0m\u001b[1;33m\u001b[0m\u001b[1;33m\u001b[0m\u001b[0m\n\u001b[0;32m    144\u001b[0m \u001b[1;33m\u001b[0m\u001b[0m\n",
      "\u001b[1;32mD:\\Anaconda3\\lib\\site-packages\\selenium\\webdriver\\remote\\webdriver.py\u001b[0m in \u001b[0;36mclose\u001b[1;34m(self)\u001b[0m\n\u001b[0;32m    686\u001b[0m             \u001b[0mdriver\u001b[0m\u001b[1;33m.\u001b[0m\u001b[0mclose\u001b[0m\u001b[1;33m(\u001b[0m\u001b[1;33m)\u001b[0m\u001b[1;33m\u001b[0m\u001b[1;33m\u001b[0m\u001b[0m\n\u001b[0;32m    687\u001b[0m         \"\"\"\n\u001b[1;32m--> 688\u001b[1;33m         \u001b[0mself\u001b[0m\u001b[1;33m.\u001b[0m\u001b[0mexecute\u001b[0m\u001b[1;33m(\u001b[0m\u001b[0mCommand\u001b[0m\u001b[1;33m.\u001b[0m\u001b[0mCLOSE\u001b[0m\u001b[1;33m)\u001b[0m\u001b[1;33m\u001b[0m\u001b[1;33m\u001b[0m\u001b[0m\n\u001b[0m\u001b[0;32m    689\u001b[0m \u001b[1;33m\u001b[0m\u001b[0m\n\u001b[0;32m    690\u001b[0m     \u001b[1;32mdef\u001b[0m \u001b[0mquit\u001b[0m\u001b[1;33m(\u001b[0m\u001b[0mself\u001b[0m\u001b[1;33m)\u001b[0m\u001b[1;33m:\u001b[0m\u001b[1;33m\u001b[0m\u001b[1;33m\u001b[0m\u001b[0m\n",
      "\u001b[1;32mD:\\Anaconda3\\lib\\site-packages\\selenium\\webdriver\\remote\\webdriver.py\u001b[0m in \u001b[0;36mexecute\u001b[1;34m(self, driver_command, params)\u001b[0m\n\u001b[0;32m    319\u001b[0m         \u001b[0mresponse\u001b[0m \u001b[1;33m=\u001b[0m \u001b[0mself\u001b[0m\u001b[1;33m.\u001b[0m\u001b[0mcommand_executor\u001b[0m\u001b[1;33m.\u001b[0m\u001b[0mexecute\u001b[0m\u001b[1;33m(\u001b[0m\u001b[0mdriver_command\u001b[0m\u001b[1;33m,\u001b[0m \u001b[0mparams\u001b[0m\u001b[1;33m)\u001b[0m\u001b[1;33m\u001b[0m\u001b[1;33m\u001b[0m\u001b[0m\n\u001b[0;32m    320\u001b[0m         \u001b[1;32mif\u001b[0m \u001b[0mresponse\u001b[0m\u001b[1;33m:\u001b[0m\u001b[1;33m\u001b[0m\u001b[1;33m\u001b[0m\u001b[0m\n\u001b[1;32m--> 321\u001b[1;33m             \u001b[0mself\u001b[0m\u001b[1;33m.\u001b[0m\u001b[0merror_handler\u001b[0m\u001b[1;33m.\u001b[0m\u001b[0mcheck_response\u001b[0m\u001b[1;33m(\u001b[0m\u001b[0mresponse\u001b[0m\u001b[1;33m)\u001b[0m\u001b[1;33m\u001b[0m\u001b[1;33m\u001b[0m\u001b[0m\n\u001b[0m\u001b[0;32m    322\u001b[0m             response['value'] = self._unwrap_value(\n\u001b[0;32m    323\u001b[0m                 response.get('value', None))\n",
      "\u001b[1;32mD:\\Anaconda3\\lib\\site-packages\\selenium\\webdriver\\remote\\errorhandler.py\u001b[0m in \u001b[0;36mcheck_response\u001b[1;34m(self, response)\u001b[0m\n\u001b[0;32m    240\u001b[0m                 \u001b[0malert_text\u001b[0m \u001b[1;33m=\u001b[0m \u001b[0mvalue\u001b[0m\u001b[1;33m[\u001b[0m\u001b[1;34m'alert'\u001b[0m\u001b[1;33m]\u001b[0m\u001b[1;33m.\u001b[0m\u001b[0mget\u001b[0m\u001b[1;33m(\u001b[0m\u001b[1;34m'text'\u001b[0m\u001b[1;33m)\u001b[0m\u001b[1;33m\u001b[0m\u001b[1;33m\u001b[0m\u001b[0m\n\u001b[0;32m    241\u001b[0m             \u001b[1;32mraise\u001b[0m \u001b[0mexception_class\u001b[0m\u001b[1;33m(\u001b[0m\u001b[0mmessage\u001b[0m\u001b[1;33m,\u001b[0m \u001b[0mscreen\u001b[0m\u001b[1;33m,\u001b[0m \u001b[0mstacktrace\u001b[0m\u001b[1;33m,\u001b[0m \u001b[0malert_text\u001b[0m\u001b[1;33m)\u001b[0m\u001b[1;33m\u001b[0m\u001b[1;33m\u001b[0m\u001b[0m\n\u001b[1;32m--> 242\u001b[1;33m         \u001b[1;32mraise\u001b[0m \u001b[0mexception_class\u001b[0m\u001b[1;33m(\u001b[0m\u001b[0mmessage\u001b[0m\u001b[1;33m,\u001b[0m \u001b[0mscreen\u001b[0m\u001b[1;33m,\u001b[0m \u001b[0mstacktrace\u001b[0m\u001b[1;33m)\u001b[0m\u001b[1;33m\u001b[0m\u001b[1;33m\u001b[0m\u001b[0m\n\u001b[0m\u001b[0;32m    243\u001b[0m \u001b[1;33m\u001b[0m\u001b[0m\n\u001b[0;32m    244\u001b[0m     \u001b[1;32mdef\u001b[0m \u001b[0m_value_or_default\u001b[0m\u001b[1;33m(\u001b[0m\u001b[0mself\u001b[0m\u001b[1;33m,\u001b[0m \u001b[0mobj\u001b[0m\u001b[1;33m,\u001b[0m \u001b[0mkey\u001b[0m\u001b[1;33m,\u001b[0m \u001b[0mdefault\u001b[0m\u001b[1;33m)\u001b[0m\u001b[1;33m:\u001b[0m\u001b[1;33m\u001b[0m\u001b[1;33m\u001b[0m\u001b[0m\n",
      "\u001b[1;31mWebDriverException\u001b[0m: Message: chrome not reachable\n  (Session info: chrome=78.0.3904.108)\n"
     ]
    }
   ],
   "source": [
    "# dir_path = 'E:/wangtao/PythonWorkSpace/SpiderSpace/Stock_Companies/data/'\n",
    "# ss.getAnnualReports(dir_path,df,'2017')\n",
    "\n",
    "ss.getStockDataByType('E:/wangtao/PythonWorkSpace/SpiderSpace/Stock_Companies/data/')"
   ]
  },
  {
   "cell_type": "code",
   "execution_count": 17,
   "metadata": {},
   "outputs": [],
   "source": [
    "# 显示所有列\n",
    "pd.set_option('display.max_columns', None)\n",
    "# 显示所有行\n",
    "pd.set_option('display.max_rows', None)"
   ]
  },
  {
   "cell_type": "code",
   "execution_count": 24,
   "metadata": {
    "scrolled": true
   },
   "outputs": [],
   "source": [
    "df_2014 = pd.read_excel(\"data/2014年报.xls\",converters= {u'stock_code':str})\n",
    "df_2015 = pd.read_excel(\"data/2015年报.xls\",converters= {u'stock_code':str})\n",
    "df_2016 = pd.read_excel(\"data/2016年报.xls\",converters= {u'stock_code':str})\n",
    "df_2017 = pd.read_excel(\"data/2017年报.xls\",converters= {u'stock_code':str})\n",
    "df_2018 = pd.read_excel(\"data/2018年报.xls\",converters= {u'stock_code':str})"
   ]
  },
  {
   "cell_type": "code",
   "execution_count": 25,
   "metadata": {},
   "outputs": [],
   "source": [
    "code_list = []\n",
    "reports = [df_2014,df_2015,df_2016,df_2017,df_2018]\n",
    "for df_report in reports:\n",
    "    codes = []\n",
    "    for index, row in df_report.iterrows():\n",
    "        # 净资产收益率大于15%\n",
    "        if (row['stock_code'][0] != '3') & \\\n",
    "            (row['avg_roe'] > 0.15) & \\\n",
    "           (row['total_revenue_gr'] > 0) & \\\n",
    "            (row['basic_eps'] > 0) & \\\n",
    "            (row['np_per_share'] > 0) & \\\n",
    "            (row['operate_cash_flow_ps'] > 0):\n",
    "#             (row['operate_cash_flow_ps_gr'] > 0):\n",
    "            #满足条件的加入\n",
    "            codes.append(row['stock_code'])\n",
    "            \n",
    "    code_list.append(codes)"
   ]
  },
  {
   "cell_type": "code",
   "execution_count": 26,
   "metadata": {},
   "outputs": [],
   "source": [
    "intersection = code_list[0]\n",
    "# 取每年的交集\n",
    "for i in range(1,len(code_list)):\n",
    "    intersection = list(set(intersection).intersection(set(code_list[i])))"
   ]
  },
  {
   "cell_type": "code",
   "execution_count": 27,
   "metadata": {},
   "outputs": [],
   "source": [
    "df_target = df[df['StockCode'].apply(lambda x: (x in intersection))]"
   ]
  },
  {
   "cell_type": "code",
   "execution_count": 28,
   "metadata": {
    "scrolled": false
   },
   "outputs": [
    {
     "data": {
      "text/plain": [
       "(86, 19)"
      ]
     },
     "execution_count": 28,
     "metadata": {},
     "output_type": "execute_result"
    }
   ],
   "source": [
    "df_target.shape"
   ]
  },
  {
   "cell_type": "code",
   "execution_count": 29,
   "metadata": {},
   "outputs": [],
   "source": [
    "df_target = df_target[df_target['PE_D'].apply(lambda x:(x != '未公布') & (x != '0'))]\n",
    "df_target = df_target[df_target['PE_S'].apply(lambda x:(x != '未公布') & (x != '0'))]\n",
    "# 新增市盈率中位数\n",
    "df_target['PE_M'] = df_target['StockCode'].apply(lambda x:ss.getPEMedian(x))\n",
    "df_target = df_target[df_target['PE_M'] != 0]\n",
    "\n",
    "df_target['pe_rate'] = df_target.apply(lambda x:(float(x['PE_D']) / x['PE_M']),axis=1)\n",
    "df_target = df_target[df_target['pe_rate'] < 0.5]"
   ]
  },
  {
   "cell_type": "code",
   "execution_count": 30,
   "metadata": {
    "scrolled": true
   },
   "outputs": [
    {
     "data": {
      "text/plain": [
       "(5, 21)"
      ]
     },
     "execution_count": 30,
     "metadata": {},
     "output_type": "execute_result"
    }
   ],
   "source": [
    "df_target.shape"
   ]
  },
  {
   "cell_type": "code",
   "execution_count": 31,
   "metadata": {
    "scrolled": true
   },
   "outputs": [
    {
     "data": {
      "text/html": [
       "<div>\n",
       "<style scoped>\n",
       "    .dataframe tbody tr th:only-of-type {\n",
       "        vertical-align: middle;\n",
       "    }\n",
       "\n",
       "    .dataframe tbody tr th {\n",
       "        vertical-align: top;\n",
       "    }\n",
       "\n",
       "    .dataframe thead th {\n",
       "        text-align: right;\n",
       "    }\n",
       "</style>\n",
       "<table border=\"1\" class=\"dataframe\">\n",
       "  <thead>\n",
       "    <tr style=\"text-align: right;\">\n",
       "      <th></th>\n",
       "      <th>StockCode</th>\n",
       "      <th>StockName</th>\n",
       "      <th>Price</th>\n",
       "      <th>PriceLimit</th>\n",
       "      <th>QuantityRelativeR</th>\n",
       "      <th>TurnoverRate</th>\n",
       "      <th>Trade</th>\n",
       "      <th>PB</th>\n",
       "      <th>PE_S</th>\n",
       "      <th>PE_D</th>\n",
       "      <th>EarningsPerShare</th>\n",
       "      <th>NetProfitDes</th>\n",
       "      <th>ROE</th>\n",
       "      <th>GrossProfitRate</th>\n",
       "      <th>NetAssetValuePerShare</th>\n",
       "      <th>CapitalStock</th>\n",
       "      <th>ScaleShareType</th>\n",
       "      <th>FinanceAnalize</th>\n",
       "      <th>MoneyFlowPerShare</th>\n",
       "      <th>PE_M</th>\n",
       "      <th>pe_rate</th>\n",
       "    </tr>\n",
       "  </thead>\n",
       "  <tbody>\n",
       "    <tr>\n",
       "      <th>3576</th>\n",
       "      <td>600566</td>\n",
       "      <td>济川药业</td>\n",
       "      <td>21.66</td>\n",
       "      <td>-2.96%</td>\n",
       "      <td>1.76</td>\n",
       "      <td>0.85%</td>\n",
       "      <td>医药生物 — 中药Ⅱ</td>\n",
       "      <td>3.09</td>\n",
       "      <td>10.46</td>\n",
       "      <td>10.140</td>\n",
       "      <td>1.60元</td>\n",
       "      <td>13.06亿元\\n\\t\\t\\t\\t\\t\\t\\n\\t\\t\\t\\t\\t\\t同比下降0.24%\\t...</td>\n",
       "      <td>23.05%</td>\n",
       "      <td>84.45%</td>\n",
       "      <td>7.00元</td>\n",
       "      <td>8.15亿股</td>\n",
       "      <td>\\n\\t\\t\\t\\t\\t\\t\\t\\t\\t\\t\\t\\t\\t大盘股\\t\\t\\t\\t\\t\\t\\t\\...</td>\n",
       "      <td>三线蓝筹,白马股,绩优股,</td>\n",
       "      <td>2.19元</td>\n",
       "      <td>27.630</td>\n",
       "      <td>0.366992</td>\n",
       "    </tr>\n",
       "    <tr>\n",
       "      <th>262</th>\n",
       "      <td>603579</td>\n",
       "      <td>荣泰健康</td>\n",
       "      <td>28.70</td>\n",
       "      <td>2.83%</td>\n",
       "      <td>1.50</td>\n",
       "      <td>1.47%</td>\n",
       "      <td>家用电器 — 白色家电</td>\n",
       "      <td>2.50</td>\n",
       "      <td>15.68</td>\n",
       "      <td>14.025</td>\n",
       "      <td>1.50元</td>\n",
       "      <td>2.09亿元\\n\\t\\t\\t\\t\\t\\t\\n\\t\\t\\t\\t\\t\\t同比增长13.69%\\t...</td>\n",
       "      <td>13.44%</td>\n",
       "      <td>29.42%</td>\n",
       "      <td>11.17元</td>\n",
       "      <td>1.40亿股</td>\n",
       "      <td>\\n\\t\\t\\t\\t\\t\\t\\t\\t\\t\\t\\t\\t\\t小盘股\\t\\t\\t\\t\\t\\t\\t\\...</td>\n",
       "      <td>绩优股,</td>\n",
       "      <td>2.16元</td>\n",
       "      <td>30.605</td>\n",
       "      <td>0.458258</td>\n",
       "    </tr>\n",
       "    <tr>\n",
       "      <th>343</th>\n",
       "      <td>600511</td>\n",
       "      <td>国药股份</td>\n",
       "      <td>24.74</td>\n",
       "      <td>2.36%</td>\n",
       "      <td>1.64</td>\n",
       "      <td>2.07%</td>\n",
       "      <td>医药生物 — 医药商业Ⅱ</td>\n",
       "      <td>1.85</td>\n",
       "      <td>12.99</td>\n",
       "      <td>12.767</td>\n",
       "      <td>1.40元</td>\n",
       "      <td>10.71亿元\\n\\t\\t\\t\\t\\t\\t\\n\\t\\t\\t\\t\\t\\t同比增长12.71%\\...</td>\n",
       "      <td>11.16%</td>\n",
       "      <td>8.27%</td>\n",
       "      <td>13.08元</td>\n",
       "      <td>7.55亿股</td>\n",
       "      <td>\\n\\t\\t\\t\\t\\t\\t\\t\\t\\t\\t\\t\\t\\t中盘股\\t\\t\\t\\t\\t\\t\\t\\...</td>\n",
       "      <td>白马股,</td>\n",
       "      <td>1.42元</td>\n",
       "      <td>26.590</td>\n",
       "      <td>0.480143</td>\n",
       "    </tr>\n",
       "    <tr>\n",
       "      <th>3472</th>\n",
       "      <td>000963</td>\n",
       "      <td>华东医药</td>\n",
       "      <td>22.86</td>\n",
       "      <td>-1.80%</td>\n",
       "      <td>1.35</td>\n",
       "      <td>1.14%</td>\n",
       "      <td>医药生物 — 化学制药</td>\n",
       "      <td>3.50</td>\n",
       "      <td>17.97</td>\n",
       "      <td>13.805</td>\n",
       "      <td>1.26元</td>\n",
       "      <td>22.13亿元\\n\\t\\t\\t\\t\\t\\t\\n\\t\\t\\t\\t\\t\\t同比增长22.33%\\...</td>\n",
       "      <td>20.14%</td>\n",
       "      <td>32.34%</td>\n",
       "      <td>6.66元</td>\n",
       "      <td>17.50亿股</td>\n",
       "      <td>\\n\\t\\t\\t\\t\\t\\t\\t\\t\\t\\t\\t\\t\\t大盘股\\t\\t\\t\\t\\t\\t\\t\\...</td>\n",
       "      <td>二线蓝筹,</td>\n",
       "      <td>0.52元</td>\n",
       "      <td>28.665</td>\n",
       "      <td>0.481598</td>\n",
       "    </tr>\n",
       "    <tr>\n",
       "      <th>3251</th>\n",
       "      <td>002174</td>\n",
       "      <td>游族网络</td>\n",
       "      <td>15.90</td>\n",
       "      <td>-1.00%</td>\n",
       "      <td>0.72</td>\n",
       "      <td>1.91%</td>\n",
       "      <td>传媒 — 互联网传媒</td>\n",
       "      <td>2.66</td>\n",
       "      <td>14.00</td>\n",
       "      <td>15.023</td>\n",
       "      <td>0.81元</td>\n",
       "      <td>7.05亿元\\n\\t\\t\\t\\t\\t\\t\\n\\t\\t\\t\\t\\t\\t同比增长3.29%\\t\\...</td>\n",
       "      <td>14.14%</td>\n",
       "      <td>53.90%</td>\n",
       "      <td>5.97元</td>\n",
       "      <td>8.88亿股</td>\n",
       "      <td>\\n\\t\\t\\t\\t\\t\\t\\t\\t\\t\\t\\t\\t\\t中盘股\\t\\t\\t\\t\\t\\t\\t\\...</td>\n",
       "      <td>绩优股,</td>\n",
       "      <td>0.18元</td>\n",
       "      <td>30.890</td>\n",
       "      <td>0.486339</td>\n",
       "    </tr>\n",
       "  </tbody>\n",
       "</table>\n",
       "</div>"
      ],
      "text/plain": [
       "     StockCode StockName  Price PriceLimit QuantityRelativeR TurnoverRate  \\\n",
       "3576    600566      济川药业  21.66     -2.96%              1.76        0.85%   \n",
       "262     603579      荣泰健康  28.70      2.83%              1.50        1.47%   \n",
       "343     600511      国药股份  24.74      2.36%              1.64        2.07%   \n",
       "3472    000963      华东医药  22.86     -1.80%              1.35        1.14%   \n",
       "3251    002174      游族网络  15.90     -1.00%              0.72        1.91%   \n",
       "\n",
       "             Trade    PB   PE_S    PE_D EarningsPerShare  \\\n",
       "3576    医药生物 — 中药Ⅱ  3.09  10.46  10.140            1.60元   \n",
       "262    家用电器 — 白色家电  2.50  15.68  14.025            1.50元   \n",
       "343   医药生物 — 医药商业Ⅱ  1.85  12.99  12.767            1.40元   \n",
       "3472   医药生物 — 化学制药  3.50  17.97  13.805            1.26元   \n",
       "3251    传媒 — 互联网传媒  2.66  14.00  15.023            0.81元   \n",
       "\n",
       "                                           NetProfitDes     ROE  \\\n",
       "3576  13.06亿元\\n\\t\\t\\t\\t\\t\\t\\n\\t\\t\\t\\t\\t\\t同比下降0.24%\\t...  23.05%   \n",
       "262   2.09亿元\\n\\t\\t\\t\\t\\t\\t\\n\\t\\t\\t\\t\\t\\t同比增长13.69%\\t...  13.44%   \n",
       "343   10.71亿元\\n\\t\\t\\t\\t\\t\\t\\n\\t\\t\\t\\t\\t\\t同比增长12.71%\\...  11.16%   \n",
       "3472  22.13亿元\\n\\t\\t\\t\\t\\t\\t\\n\\t\\t\\t\\t\\t\\t同比增长22.33%\\...  20.14%   \n",
       "3251  7.05亿元\\n\\t\\t\\t\\t\\t\\t\\n\\t\\t\\t\\t\\t\\t同比增长3.29%\\t\\...  14.14%   \n",
       "\n",
       "     GrossProfitRate NetAssetValuePerShare CapitalStock  \\\n",
       "3576          84.45%                 7.00元       8.15亿股   \n",
       "262           29.42%                11.17元       1.40亿股   \n",
       "343            8.27%                13.08元       7.55亿股   \n",
       "3472          32.34%                 6.66元      17.50亿股   \n",
       "3251          53.90%                 5.97元       8.88亿股   \n",
       "\n",
       "                                         ScaleShareType FinanceAnalize  \\\n",
       "3576  \\n\\t\\t\\t\\t\\t\\t\\t\\t\\t\\t\\t\\t\\t大盘股\\t\\t\\t\\t\\t\\t\\t\\...  三线蓝筹,白马股,绩优股,   \n",
       "262   \\n\\t\\t\\t\\t\\t\\t\\t\\t\\t\\t\\t\\t\\t小盘股\\t\\t\\t\\t\\t\\t\\t\\...           绩优股,   \n",
       "343   \\n\\t\\t\\t\\t\\t\\t\\t\\t\\t\\t\\t\\t\\t中盘股\\t\\t\\t\\t\\t\\t\\t\\...           白马股,   \n",
       "3472  \\n\\t\\t\\t\\t\\t\\t\\t\\t\\t\\t\\t\\t\\t大盘股\\t\\t\\t\\t\\t\\t\\t\\...          二线蓝筹,   \n",
       "3251  \\n\\t\\t\\t\\t\\t\\t\\t\\t\\t\\t\\t\\t\\t中盘股\\t\\t\\t\\t\\t\\t\\t\\...           绩优股,   \n",
       "\n",
       "     MoneyFlowPerShare    PE_M   pe_rate  \n",
       "3576             2.19元  27.630  0.366992  \n",
       "262              2.16元  30.605  0.458258  \n",
       "343              1.42元  26.590  0.480143  \n",
       "3472             0.52元  28.665  0.481598  \n",
       "3251             0.18元  30.890  0.486339  "
      ]
     },
     "execution_count": 31,
     "metadata": {},
     "output_type": "execute_result"
    }
   ],
   "source": [
    "df_target.sort_values(by=['pe_rate'],ascending=True)"
   ]
  },
  {
   "cell_type": "code",
   "execution_count": 57,
   "metadata": {},
   "outputs": [
    {
     "data": {
      "text/plain": [
       "(98, 20)"
      ]
     },
     "execution_count": 57,
     "metadata": {},
     "output_type": "execute_result"
    }
   ],
   "source": [
    "df_target.shape"
   ]
  },
  {
   "cell_type": "code",
   "execution_count": null,
   "metadata": {},
   "outputs": [],
   "source": []
  }
 ],
 "metadata": {
  "kernelspec": {
   "display_name": "Python 3",
   "language": "python",
   "name": "python3"
  },
  "language_info": {
   "codemirror_mode": {
    "name": "ipython",
    "version": 3
   },
   "file_extension": ".py",
   "mimetype": "text/x-python",
   "name": "python",
   "nbconvert_exporter": "python",
   "pygments_lexer": "ipython3",
   "version": "3.7.1"
  }
 },
 "nbformat": 4,
 "nbformat_minor": 2
}
