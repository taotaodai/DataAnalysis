{
 "cells": [
  {
   "cell_type": "code",
   "execution_count": 1,
   "metadata": {},
   "outputs": [],
   "source": [
    "import requests,time,datetime\n",
    "import sys\n",
    "import numpy as np\n",
    "import pandas as pd\n",
    "import matplotlib.pyplot as plt\n",
    "\n",
    "import utils.DateAndTimeUtil as datu\n",
    "import utils.CommonUtil as cu\n",
    "import utils.StockSpider as ss"
   ]
  },
  {
   "cell_type": "code",
   "execution_count": 2,
   "metadata": {},
   "outputs": [],
   "source": [
    "df_hsA = pd.read_excel(\"data/沪深A股.xls\",converters= {u'StockCode':str})"
   ]
  },
  {
   "cell_type": "code",
   "execution_count": 3,
   "metadata": {},
   "outputs": [],
   "source": [
    "df = df_hsA"
   ]
  },
  {
   "cell_type": "code",
   "execution_count": 5,
   "metadata": {},
   "outputs": [
    {
     "name": "stdout",
     "output_type": "stream",
     "text": [
      "正在获取：沪深A股...请勿关闭浏览器\n",
      "第153页-第0条...."
     ]
    },
    {
     "name": "stderr",
     "output_type": "stream",
     "text": [
      "Traceback (most recent call last):\n",
      "  File \"E:\\wangtao\\PythonWorkSpace\\SpiderSpace\\Stock_Companies\\utils\\StockSpider.py\", line 126, in getStockDataByType\n",
      "    sheet.write(row_index,4,qrr.text)\n",
      "  File \"D:\\Anaconda3\\lib\\site-packages\\selenium\\webdriver\\remote\\webelement.py\", line 76, in text\n",
      "    return self._execute(Command.GET_ELEMENT_TEXT)['value']\n",
      "  File \"D:\\Anaconda3\\lib\\site-packages\\selenium\\webdriver\\remote\\webelement.py\", line 633, in _execute\n",
      "    return self._parent.execute(command, params)\n",
      "  File \"D:\\Anaconda3\\lib\\site-packages\\selenium\\webdriver\\remote\\webdriver.py\", line 321, in execute\n",
      "    self.error_handler.check_response(response)\n",
      "  File \"D:\\Anaconda3\\lib\\site-packages\\selenium\\webdriver\\remote\\errorhandler.py\", line 242, in check_response\n",
      "    raise exception_class(message, screen, stacktrace)\n",
      "selenium.common.exceptions.StaleElementReferenceException: Message: stale element reference: element is not attached to the page document\n",
      "  (Session info: chrome=80.0.3987.132)\n",
      "\n"
     ]
    }
   ],
   "source": [
    "# dir_path = 'E:/wangtao/PythonWorkSpace/SpiderSpace/Stock_Companies/data/'\n",
    "# ss.getAnnualReports(dir_path,df,'2019')\n",
    "\n",
    "ss.getStockDataByType('E:/wangtao/PythonWorkSpace/SpiderSpace/Stock_Companies/data/')\n",
    "# ss.getStockDataByType('E:/PythonWorkSpace/DataAnalysis/Stock_Companies/data/')\n"
   ]
  },
  {
   "cell_type": "code",
   "execution_count": 6,
   "metadata": {},
   "outputs": [],
   "source": [
    "# 显示所有列\n",
    "pd.set_option('display.max_columns', None)\n",
    "# 显示所有行\n",
    "pd.set_option('display.max_rows', None)"
   ]
  },
  {
   "cell_type": "code",
   "execution_count": 7,
   "metadata": {
    "scrolled": true
   },
   "outputs": [],
   "source": [
    "df_2014 = pd.read_excel(\"data/2014年报.xls\",converters= {u'stock_code':str})\n",
    "df_2015 = pd.read_excel(\"data/2015年报.xls\",converters= {u'stock_code':str})\n",
    "df_2016 = pd.read_excel(\"data/2016年报.xls\",converters= {u'stock_code':str})\n",
    "df_2017 = pd.read_excel(\"data/2017年报.xls\",converters= {u'stock_code':str})\n",
    "df_2018 = pd.read_excel(\"data/2018年报.xls\",converters= {u'stock_code':str})\n",
    "df_2019 = pd.read_excel(\"data/2019年报.xls\",converters= {u'stock_code':str})"
   ]
  },
  {
   "cell_type": "code",
   "execution_count": 8,
   "metadata": {},
   "outputs": [],
   "source": [
    "code_list = []\n",
    "reports = [df_2014,df_2015,df_2016,df_2017,df_2018,df_2019]\n",
    "for df_report in reports:\n",
    "    codes = []\n",
    "    for index, row in df_report.iterrows():\n",
    "        # 净资产收益率大于15%\n",
    "        if (row['stock_code'][0] != '3') & \\\n",
    "            (row['avg_roe'] > 0.15) & \\\n",
    "           (row['total_revenue_gr'] > 0) & \\\n",
    "            (row['basic_eps'] > 0) & \\\n",
    "            (row['np_per_share'] > 0) & \\\n",
    "            (row['operate_cash_flow_ps'] > 0):\n",
    "#             (row['operate_cash_flow_ps_gr'] > 0):\n",
    "            #满足条件的加入\n",
    "            codes.append(row['stock_code'])\n",
    "            \n",
    "    code_list.append(codes)"
   ]
  },
  {
   "cell_type": "code",
   "execution_count": 9,
   "metadata": {},
   "outputs": [],
   "source": [
    "intersection = code_list[0]\n",
    "# 取每年的交集\n",
    "for i in range(1,len(code_list)):\n",
    "    intersection = list(set(intersection).intersection(set(code_list[i])))"
   ]
  },
  {
   "cell_type": "code",
   "execution_count": 10,
   "metadata": {},
   "outputs": [],
   "source": [
    "df_target = df[df['StockCode'].apply(lambda x: (x in intersection))]"
   ]
  },
  {
   "cell_type": "code",
   "execution_count": 13,
   "metadata": {
    "scrolled": false
   },
   "outputs": [
    {
     "data": {
      "text/plain": [
       "(64, 19)"
      ]
     },
     "execution_count": 13,
     "metadata": {},
     "output_type": "execute_result"
    }
   ],
   "source": [
    "df_target.shape"
   ]
  },
  {
   "cell_type": "code",
   "execution_count": 14,
   "metadata": {},
   "outputs": [],
   "source": [
    "df_target = df_target[df_target['PE_D'].apply(lambda x:(x != '未公布') & (x != '0'))]\n",
    "df_target = df_target[df_target['PE_S'].apply(lambda x:(x != '未公布') & (x != '0'))]\n",
    "# 新增市盈率中位数\n",
    "df_target['PE_M'] = df_target['StockCode'].apply(lambda x:ss.getPEMedian(x))\n",
    "df_target = df_target[df_target['PE_M'] != 0]\n",
    "\n",
    "df_target['pe_rate'] = df_target.apply(lambda x:(float(x['PE_D']) / x['PE_M']),axis=1)\n",
    "df_target = df_target[df_target['pe_rate'] < 0.6]"
   ]
  },
  {
   "cell_type": "code",
   "execution_count": 15,
   "metadata": {
    "scrolled": true
   },
   "outputs": [
    {
     "data": {
      "text/plain": [
       "(4, 21)"
      ]
     },
     "execution_count": 15,
     "metadata": {},
     "output_type": "execute_result"
    }
   ],
   "source": [
    "df_target.shape"
   ]
  },
  {
   "cell_type": "code",
   "execution_count": 13,
   "metadata": {
    "scrolled": true
   },
   "outputs": [
    {
     "data": {
      "text/html": [
       "<div>\n",
       "<style scoped>\n",
       "    .dataframe tbody tr th:only-of-type {\n",
       "        vertical-align: middle;\n",
       "    }\n",
       "\n",
       "    .dataframe tbody tr th {\n",
       "        vertical-align: top;\n",
       "    }\n",
       "\n",
       "    .dataframe thead th {\n",
       "        text-align: right;\n",
       "    }\n",
       "</style>\n",
       "<table border=\"1\" class=\"dataframe\">\n",
       "  <thead>\n",
       "    <tr style=\"text-align: right;\">\n",
       "      <th></th>\n",
       "      <th>StockCode</th>\n",
       "      <th>StockName</th>\n",
       "      <th>Price</th>\n",
       "      <th>PriceLimit</th>\n",
       "      <th>QuantityRelativeR</th>\n",
       "      <th>TurnoverRate</th>\n",
       "      <th>Trade</th>\n",
       "      <th>PB</th>\n",
       "      <th>PE_S</th>\n",
       "      <th>PE_D</th>\n",
       "      <th>EarningsPerShare</th>\n",
       "      <th>NetProfitDes</th>\n",
       "      <th>ROE</th>\n",
       "      <th>GrossProfitRate</th>\n",
       "      <th>NetAssetValuePerShare</th>\n",
       "      <th>CapitalStock</th>\n",
       "      <th>ScaleShareType</th>\n",
       "      <th>FinanceAnalize</th>\n",
       "      <th>MoneyFlowPerShare</th>\n",
       "      <th>PE_M</th>\n",
       "      <th>pe_rate</th>\n",
       "    </tr>\n",
       "  </thead>\n",
       "  <tbody>\n",
       "    <tr>\n",
       "      <th>578</th>\n",
       "      <td>600566</td>\n",
       "      <td>济川药业</td>\n",
       "      <td>23.79</td>\n",
       "      <td>1.06%</td>\n",
       "      <td>0.81</td>\n",
       "      <td>0.81%</td>\n",
       "      <td>医药生物 — 中药Ⅱ</td>\n",
       "      <td>3.36</td>\n",
       "      <td>11.37</td>\n",
       "      <td>11.020</td>\n",
       "      <td>1.60元</td>\n",
       "      <td>13.06亿元\\n\\t\\t\\t\\t\\t\\t\\n\\t\\t\\t\\t\\t\\t同比下降0.24%\\t...</td>\n",
       "      <td>23.05%</td>\n",
       "      <td>84.45%</td>\n",
       "      <td>7.00元</td>\n",
       "      <td>8.15亿股</td>\n",
       "      <td>\\n\\t\\t\\t\\t\\t\\t\\t\\t\\t\\t\\t\\t\\t大盘股\\t\\t\\t\\t\\t\\t\\t\\...</td>\n",
       "      <td>三线蓝筹,白马股,绩优股,</td>\n",
       "      <td>2.19元</td>\n",
       "      <td>27.620</td>\n",
       "      <td>0.398986</td>\n",
       "    </tr>\n",
       "    <tr>\n",
       "      <th>1788</th>\n",
       "      <td>000963</td>\n",
       "      <td>华东医药</td>\n",
       "      <td>19.85</td>\n",
       "      <td>-1.10%</td>\n",
       "      <td>0.53</td>\n",
       "      <td>0.69%</td>\n",
       "      <td>医药生物 — 化学制药</td>\n",
       "      <td>3.01</td>\n",
       "      <td>15.49</td>\n",
       "      <td>11.901</td>\n",
       "      <td>1.26元</td>\n",
       "      <td>22.13亿元\\n\\t\\t\\t\\t\\t\\t\\n\\t\\t\\t\\t\\t\\t同比增长22.33%\\...</td>\n",
       "      <td>20.14%</td>\n",
       "      <td>32.34%</td>\n",
       "      <td>6.66元</td>\n",
       "      <td>17.50亿股</td>\n",
       "      <td>\\n\\t\\t\\t\\t\\t\\t\\t\\t\\t\\t\\t\\t\\t大盘股\\t\\t\\t\\t\\t\\t\\t\\...</td>\n",
       "      <td>三线蓝筹,</td>\n",
       "      <td>0.52元</td>\n",
       "      <td>28.090</td>\n",
       "      <td>0.423674</td>\n",
       "    </tr>\n",
       "    <tr>\n",
       "      <th>1463</th>\n",
       "      <td>002572</td>\n",
       "      <td>索菲亚</td>\n",
       "      <td>20.21</td>\n",
       "      <td>-0.69%</td>\n",
       "      <td>0.83</td>\n",
       "      <td>2.01%</td>\n",
       "      <td>轻工制造 — 家用轻工</td>\n",
       "      <td>3.43</td>\n",
       "      <td>17.47</td>\n",
       "      <td>17.472</td>\n",
       "      <td>1.17元</td>\n",
       "      <td>10.70亿元\\n\\t\\t\\t\\t\\t\\t\\n\\t\\t\\t\\t\\t\\t同比增长11.56%\\...</td>\n",
       "      <td>19.68%</td>\n",
       "      <td>未公布</td>\n",
       "      <td>5.96元</td>\n",
       "      <td>9.12亿股</td>\n",
       "      <td>\\n\\t\\t\\t\\t\\t\\t\\t\\t\\t\\t\\t\\t\\t中盘股\\t\\t\\t\\t\\t\\t\\t\\...</td>\n",
       "      <td>绩优股,</td>\n",
       "      <td>未公布</td>\n",
       "      <td>39.035</td>\n",
       "      <td>0.447598</td>\n",
       "    </tr>\n",
       "    <tr>\n",
       "      <th>3181</th>\n",
       "      <td>002262</td>\n",
       "      <td>恩华药业</td>\n",
       "      <td>11.97</td>\n",
       "      <td>-3.31%</td>\n",
       "      <td>0.73</td>\n",
       "      <td>2.06%</td>\n",
       "      <td>医药生物 — 化学制药</td>\n",
       "      <td>3.49</td>\n",
       "      <td>19.04</td>\n",
       "      <td>19.037</td>\n",
       "      <td>0.66元</td>\n",
       "      <td>6.63亿元\\n\\t\\t\\t\\t\\t\\t\\n\\t\\t\\t\\t\\t\\t同比增长26.32%\\t...</td>\n",
       "      <td>18.32%</td>\n",
       "      <td>未公布</td>\n",
       "      <td>3.55元</td>\n",
       "      <td>10.19亿股</td>\n",
       "      <td>\\n\\t\\t\\t\\t\\t\\t\\t\\t\\t\\t\\t\\t\\t中盘股\\t\\t\\t\\t\\t\\t\\t\\...</td>\n",
       "      <td>绩优股,</td>\n",
       "      <td>未公布</td>\n",
       "      <td>40.890</td>\n",
       "      <td>0.465566</td>\n",
       "    </tr>\n",
       "    <tr>\n",
       "      <th>706</th>\n",
       "      <td>603886</td>\n",
       "      <td>元祖股份</td>\n",
       "      <td>17.33</td>\n",
       "      <td>0.70%</td>\n",
       "      <td>0.78</td>\n",
       "      <td>1.83%</td>\n",
       "      <td>食品饮料 — 食品加工</td>\n",
       "      <td>2.72</td>\n",
       "      <td>17.09</td>\n",
       "      <td>11.251</td>\n",
       "      <td>1.15元</td>\n",
       "      <td>2.75亿元\\n\\t\\t\\t\\t\\t\\t\\n\\t\\t\\t\\t\\t\\t同比增长6.94%\\t\\...</td>\n",
       "      <td>18.56%</td>\n",
       "      <td>65.91%</td>\n",
       "      <td>6.33元</td>\n",
       "      <td>2.40亿股</td>\n",
       "      <td>\\n\\t\\t\\t\\t\\t\\t\\t\\t\\t\\t\\t\\t\\t小盘股\\t\\t\\t\\t\\t\\t\\t\\...</td>\n",
       "      <td>绩优股,</td>\n",
       "      <td>2.64元</td>\n",
       "      <td>22.010</td>\n",
       "      <td>0.511177</td>\n",
       "    </tr>\n",
       "    <tr>\n",
       "      <th>1189</th>\n",
       "      <td>600398</td>\n",
       "      <td>海澜之家</td>\n",
       "      <td>6.92</td>\n",
       "      <td>-0.29%</td>\n",
       "      <td>0.75</td>\n",
       "      <td>0.20%</td>\n",
       "      <td>纺织服装 — 服装家纺</td>\n",
       "      <td>2.43</td>\n",
       "      <td>8.93</td>\n",
       "      <td>8.844</td>\n",
       "      <td>0.59元</td>\n",
       "      <td>26.16亿元\\n\\t\\t\\t\\t\\t\\t\\n\\t\\t\\t\\t\\t\\t同比下降0.45%\\t...</td>\n",
       "      <td>19.85%</td>\n",
       "      <td>41.77%</td>\n",
       "      <td>2.86元</td>\n",
       "      <td>44.20亿股</td>\n",
       "      <td>\\n\\t\\t\\t\\t\\t\\t\\t\\t\\t\\t\\t\\t\\t大盘股\\t\\t\\t\\t\\t\\t\\t\\...</td>\n",
       "      <td>三线蓝筹,绩优股,</td>\n",
       "      <td>0.05元</td>\n",
       "      <td>15.045</td>\n",
       "      <td>0.587836</td>\n",
       "    </tr>\n",
       "    <tr>\n",
       "      <th>2403</th>\n",
       "      <td>600388</td>\n",
       "      <td>龙净环保</td>\n",
       "      <td>11.03</td>\n",
       "      <td>-1.87%</td>\n",
       "      <td>0.57</td>\n",
       "      <td>1.04%</td>\n",
       "      <td>机械设备 — 专用设备</td>\n",
       "      <td>2.07</td>\n",
       "      <td>13.70</td>\n",
       "      <td>13.696</td>\n",
       "      <td>0.82元</td>\n",
       "      <td>8.77亿元\\n\\t\\t\\t\\t\\t\\t\\n\\t\\t\\t\\t\\t\\t同比增长9.5%\\t\\t...</td>\n",
       "      <td>15.09%</td>\n",
       "      <td>未公布</td>\n",
       "      <td>5.44元</td>\n",
       "      <td>10.69亿股</td>\n",
       "      <td>\\n\\t\\t\\t\\t\\t\\t\\t\\t\\t\\t\\t\\t\\t中盘股\\t\\t\\t\\t\\t\\t\\t\\...</td>\n",
       "      <td>NaN</td>\n",
       "      <td>未公布</td>\n",
       "      <td>22.880</td>\n",
       "      <td>0.598601</td>\n",
       "    </tr>\n",
       "  </tbody>\n",
       "</table>\n",
       "</div>"
      ],
      "text/plain": [
       "     StockCode StockName  Price PriceLimit  QuantityRelativeR TurnoverRate  \\\n",
       "578     600566      济川药业  23.79      1.06%               0.81        0.81%   \n",
       "1788    000963      华东医药  19.85     -1.10%               0.53        0.69%   \n",
       "1463    002572       索菲亚  20.21     -0.69%               0.83        2.01%   \n",
       "3181    002262      恩华药业  11.97     -3.31%               0.73        2.06%   \n",
       "706     603886      元祖股份  17.33      0.70%               0.78        1.83%   \n",
       "1189    600398      海澜之家   6.92     -0.29%               0.75        0.20%   \n",
       "2403    600388      龙净环保  11.03     -1.87%               0.57        1.04%   \n",
       "\n",
       "            Trade    PB   PE_S    PE_D EarningsPerShare  \\\n",
       "578    医药生物 — 中药Ⅱ  3.36  11.37  11.020            1.60元   \n",
       "1788  医药生物 — 化学制药  3.01  15.49  11.901            1.26元   \n",
       "1463  轻工制造 — 家用轻工  3.43  17.47  17.472            1.17元   \n",
       "3181  医药生物 — 化学制药  3.49  19.04  19.037            0.66元   \n",
       "706   食品饮料 — 食品加工  2.72  17.09  11.251            1.15元   \n",
       "1189  纺织服装 — 服装家纺  2.43   8.93   8.844            0.59元   \n",
       "2403  机械设备 — 专用设备  2.07  13.70  13.696            0.82元   \n",
       "\n",
       "                                           NetProfitDes     ROE  \\\n",
       "578   13.06亿元\\n\\t\\t\\t\\t\\t\\t\\n\\t\\t\\t\\t\\t\\t同比下降0.24%\\t...  23.05%   \n",
       "1788  22.13亿元\\n\\t\\t\\t\\t\\t\\t\\n\\t\\t\\t\\t\\t\\t同比增长22.33%\\...  20.14%   \n",
       "1463  10.70亿元\\n\\t\\t\\t\\t\\t\\t\\n\\t\\t\\t\\t\\t\\t同比增长11.56%\\...  19.68%   \n",
       "3181  6.63亿元\\n\\t\\t\\t\\t\\t\\t\\n\\t\\t\\t\\t\\t\\t同比增长26.32%\\t...  18.32%   \n",
       "706   2.75亿元\\n\\t\\t\\t\\t\\t\\t\\n\\t\\t\\t\\t\\t\\t同比增长6.94%\\t\\...  18.56%   \n",
       "1189  26.16亿元\\n\\t\\t\\t\\t\\t\\t\\n\\t\\t\\t\\t\\t\\t同比下降0.45%\\t...  19.85%   \n",
       "2403  8.77亿元\\n\\t\\t\\t\\t\\t\\t\\n\\t\\t\\t\\t\\t\\t同比增长9.5%\\t\\t...  15.09%   \n",
       "\n",
       "     GrossProfitRate NetAssetValuePerShare CapitalStock  \\\n",
       "578           84.45%                 7.00元       8.15亿股   \n",
       "1788          32.34%                 6.66元      17.50亿股   \n",
       "1463             未公布                 5.96元       9.12亿股   \n",
       "3181             未公布                 3.55元      10.19亿股   \n",
       "706           65.91%                 6.33元       2.40亿股   \n",
       "1189          41.77%                 2.86元      44.20亿股   \n",
       "2403             未公布                 5.44元      10.69亿股   \n",
       "\n",
       "                                         ScaleShareType FinanceAnalize  \\\n",
       "578   \\n\\t\\t\\t\\t\\t\\t\\t\\t\\t\\t\\t\\t\\t大盘股\\t\\t\\t\\t\\t\\t\\t\\...  三线蓝筹,白马股,绩优股,   \n",
       "1788  \\n\\t\\t\\t\\t\\t\\t\\t\\t\\t\\t\\t\\t\\t大盘股\\t\\t\\t\\t\\t\\t\\t\\...          三线蓝筹,   \n",
       "1463  \\n\\t\\t\\t\\t\\t\\t\\t\\t\\t\\t\\t\\t\\t中盘股\\t\\t\\t\\t\\t\\t\\t\\...           绩优股,   \n",
       "3181  \\n\\t\\t\\t\\t\\t\\t\\t\\t\\t\\t\\t\\t\\t中盘股\\t\\t\\t\\t\\t\\t\\t\\...           绩优股,   \n",
       "706   \\n\\t\\t\\t\\t\\t\\t\\t\\t\\t\\t\\t\\t\\t小盘股\\t\\t\\t\\t\\t\\t\\t\\...           绩优股,   \n",
       "1189  \\n\\t\\t\\t\\t\\t\\t\\t\\t\\t\\t\\t\\t\\t大盘股\\t\\t\\t\\t\\t\\t\\t\\...      三线蓝筹,绩优股,   \n",
       "2403  \\n\\t\\t\\t\\t\\t\\t\\t\\t\\t\\t\\t\\t\\t中盘股\\t\\t\\t\\t\\t\\t\\t\\...            NaN   \n",
       "\n",
       "     MoneyFlowPerShare    PE_M   pe_rate  \n",
       "578              2.19元  27.620  0.398986  \n",
       "1788             0.52元  28.090  0.423674  \n",
       "1463               未公布  39.035  0.447598  \n",
       "3181               未公布  40.890  0.465566  \n",
       "706              2.64元  22.010  0.511177  \n",
       "1189             0.05元  15.045  0.587836  \n",
       "2403               未公布  22.880  0.598601  "
      ]
     },
     "execution_count": 13,
     "metadata": {},
     "output_type": "execute_result"
    }
   ],
   "source": [
    "df_target.sort_values(by=['pe_rate'],ascending=True)"
   ]
  },
  {
   "cell_type": "code",
   "execution_count": 57,
   "metadata": {},
   "outputs": [
    {
     "data": {
      "text/plain": [
       "(98, 20)"
      ]
     },
     "execution_count": 57,
     "metadata": {},
     "output_type": "execute_result"
    }
   ],
   "source": [
    "df_target.shape"
   ]
  },
  {
   "cell_type": "code",
   "execution_count": null,
   "metadata": {},
   "outputs": [],
   "source": []
  }
 ],
 "metadata": {
  "kernelspec": {
   "display_name": "Python 3",
   "language": "python",
   "name": "python3"
  },
  "language_info": {
   "codemirror_mode": {
    "name": "ipython",
    "version": 3
   },
   "file_extension": ".py",
   "mimetype": "text/x-python",
   "name": "python",
   "nbconvert_exporter": "python",
   "pygments_lexer": "ipython3",
   "version": "3.7.1"
  }
 },
 "nbformat": 4,
 "nbformat_minor": 2
}
