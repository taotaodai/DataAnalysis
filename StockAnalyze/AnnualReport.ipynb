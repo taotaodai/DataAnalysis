{
 "cells": [
  {
   "cell_type": "code",
   "execution_count": null,
   "metadata": {},
   "outputs": [],
   "source": [
    "import requests,time,datetime\n",
    "import sys\n",
    "import numpy as np\n",
    "import pandas as pd\n",
    "import matplotlib.pyplot as plt\n",
    "\n",
    "import utils.DateAndTimeUtil as datu\n",
    "import utils.CommonUtil as cu\n",
    "import utils.StockSpider as ss"
   ]
  },
  {
   "cell_type": "code",
   "execution_count": null,
   "metadata": {},
   "outputs": [],
   "source": [
    "df_hsA = pd.read_excel(\"data/沪深A股.xls\",converters= {u'StockCode':str})"
   ]
  },
  {
   "cell_type": "code",
   "execution_count": null,
   "metadata": {},
   "outputs": [],
   "source": [
    "df = df_hsA"
   ]
  },
  {
   "cell_type": "code",
   "execution_count": null,
   "metadata": {},
   "outputs": [],
   "source": [
    "# dir_path = 'E:/wangtao/PythonWorkSpace/SpiderSpace/Stock_Companies/data/'\n",
    "# ss.getAnnualReports(dir_path,df,'2019')\n",
    "\n",
    "ss.getStockDataByType('E:/wangtao/PythonWorkSpace/DataAnalysis/StockAnalyze/data/')\n",
    "# ss.getStockDataByType('E:/PythonWorkSpace/DataAnalysis/Stock_Companies/data/')\n"
   ]
  },
  {
   "cell_type": "code",
   "execution_count": null,
   "metadata": {},
   "outputs": [],
   "source": [
    "# 显示所有列\n",
    "pd.set_option('display.max_columns', None)\n",
    "# 显示所有行\n",
    "pd.set_option('display.max_rows', None)"
   ]
  },
  {
   "cell_type": "code",
   "execution_count": null,
   "metadata": {
    "scrolled": true
   },
   "outputs": [],
   "source": [
    "df_2014 = pd.read_excel(\"data/2014年报.xls\",converters= {u'stock_code':str})\n",
    "df_2015 = pd.read_excel(\"data/2015年报.xls\",converters= {u'stock_code':str})\n",
    "df_2016 = pd.read_excel(\"data/2016年报.xls\",converters= {u'stock_code':str})\n",
    "df_2017 = pd.read_excel(\"data/2017年报.xls\",converters= {u'stock_code':str})\n",
    "df_2018 = pd.read_excel(\"data/2018年报.xls\",converters= {u'stock_code':str})\n",
    "df_2019 = pd.read_excel(\"data/2019年报.xls\",converters= {u'stock_code':str})"
   ]
  },
  {
   "cell_type": "code",
   "execution_count": null,
   "metadata": {},
   "outputs": [],
   "source": [
    "code_list = []\n",
    "reports = [df_2014,df_2015,df_2016,df_2017,df_2018,df_2019]\n",
    "for df_report in reports:\n",
    "    codes = []\n",
    "    for index, row in df_report.iterrows():\n",
    "        # 净资产收益率大于15%\n",
    "        if (row['stock_code'][0] != '3') & \\\n",
    "            (row['avg_roe'] > 0.15) & \\\n",
    "           (row['total_revenue_gr'] > 0) & \\\n",
    "            (row['basic_eps'] > 0) & \\\n",
    "            (row['np_per_share'] > 0) & \\\n",
    "            (row['operate_cash_flow_ps'] > 0):\n",
    "#             (row['operate_cash_flow_ps_gr'] > 0):\n",
    "            #满足条件的加入\n",
    "            codes.append(row['stock_code'])\n",
    "            \n",
    "    code_list.append(codes)"
   ]
  },
  {
   "cell_type": "code",
   "execution_count": null,
   "metadata": {},
   "outputs": [],
   "source": [
    "intersection = code_list[0]\n",
    "# 取每年的交集\n",
    "for i in range(1,len(code_list)):\n",
    "    intersection = list(set(intersection).intersection(set(code_list[i])))"
   ]
  },
  {
   "cell_type": "code",
   "execution_count": null,
   "metadata": {},
   "outputs": [],
   "source": [
    "df_target = df[df['StockCode'].apply(lambda x: (x in intersection))]"
   ]
  },
  {
   "cell_type": "code",
   "execution_count": null,
   "metadata": {},
   "outputs": [],
   "source": [
    "df_target.shape"
   ]
  },
  {
   "cell_type": "code",
   "execution_count": null,
   "metadata": {},
   "outputs": [],
   "source": [
    "df_target = df_target[df_target['PE_D'].apply(lambda x:(x != '未公布') &(x != '亏损') & (x != '0'))]\n",
    "df_target = df_target[df_target['PE_S'].apply(lambda x:(x != '未公布') &(x != '亏损') & (x != '0'))]\n",
    "# 新增市盈率中位数\n",
    "df_target['PE_M'] = df_target['StockCode'].apply(lambda x:ss.getPEMedian(x))\n",
    "df_target = df_target[df_target['PE_M'] != 0]\n",
    "\n",
    "df_target['pe_rate'] = df_target.apply(lambda x:(float(x['PE_S']) / x['PE_M']),axis=1)\n",
    "df_target = df_target[df_target['pe_rate'] < 0.6]"
   ]
  },
  {
   "cell_type": "code",
   "execution_count": null,
   "metadata": {
    "scrolled": true
   },
   "outputs": [],
   "source": [
    "df_target.shape"
   ]
  },
  {
   "cell_type": "code",
   "execution_count": null,
   "metadata": {
    "scrolled": true
   },
   "outputs": [],
   "source": [
    "df_target.sort_values(by=['pe_rate'],ascending=True)"
   ]
  },
  {
   "cell_type": "code",
   "execution_count": null,
   "metadata": {
    "scrolled": true
   },
   "outputs": [],
   "source": []
  },
  {
   "cell_type": "code",
   "execution_count": null,
   "metadata": {},
   "outputs": [],
   "source": []
  },
  {
   "cell_type": "code",
   "execution_count": null,
   "metadata": {},
   "outputs": [],
   "source": []
  }
 ],
 "metadata": {
  "kernelspec": {
   "display_name": "Python 3",
   "language": "python",
   "name": "python3"
  },
  "language_info": {
   "codemirror_mode": {
    "name": "ipython",
    "version": 3
   },
   "file_extension": ".py",
   "mimetype": "text/x-python",
   "name": "python",
   "nbconvert_exporter": "python",
   "pygments_lexer": "ipython3",
   "version": "3.7.1"
  }
 },
 "nbformat": 4,
 "nbformat_minor": 4
}
