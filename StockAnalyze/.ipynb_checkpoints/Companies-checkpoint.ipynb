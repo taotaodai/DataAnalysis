{
 "cells": [
  {
   "cell_type": "code",
   "execution_count": 3,
   "metadata": {},
   "outputs": [],
   "source": [
    "import sys\n",
    "import os\n",
    "\n",
    "import re\n",
    "from bs4 import BeautifulSoup\n",
    "\n",
    "import json\n",
    "import sys\n",
    "from multiprocessing import Pool\n",
    "\n",
    "import utils.StockDataUtil as sdu\n",
    "import utils.StockSpider as ss\n",
    "\n"
   ]
  },
  {
   "cell_type": "code",
   "execution_count": 2,
   "metadata": {},
   "outputs": [],
   "source": [
    "# 使用了各种方法，去请求网页数据，都会被网站屏蔽。\n",
    "# 所以这里采用自动化测试点击下一页来获取每页数据\n"
   ]
  },
  {
   "cell_type": "code",
   "execution_count": 9,
   "metadata": {},
   "outputs": [],
   "source": [
    "#沪市、深市、中小板、创业板\n",
    "# browser.get(\"http://data.10jqka.com.cn/financial/yjgg/###\")\n",
    "\n",
    "#上证50、沪深300、中证500\n",
    "# browser.get('http://data.eastmoney.com/other/index/hs300.html')"
   ]
  },
  {
   "cell_type": "code",
   "execution_count": 10,
   "metadata": {},
   "outputs": [],
   "source": [
    "# wait = WebDriverWait(browser, 10)"
   ]
  },
  {
   "cell_type": "code",
   "execution_count": 11,
   "metadata": {},
   "outputs": [],
   "source": [
    "# workbook = copy(xlrd.open_workbook(\"data/上市公司.xls\"))\n"
   ]
  },
  {
   "cell_type": "code",
   "execution_count": 12,
   "metadata": {},
   "outputs": [],
   "source": [
    "\n",
    "#获取指数成分股\n",
    "def getIndexStockByType(index_type):\n",
    "    heads = ['StockCode','StockName','Price',\\\n",
    "    'Trade','PB','PE_S','PE_D','EarningsPerShare','NetProfitDes','ROE','GrossProfitRate','NetAssetValuePerShare','CapitalStock',\\\n",
    "     'ScaleShareType','FinanceAnalize']\n",
    "    \n",
    "    parent = browser.find_element_by_id(\"mk_type\")\n",
    "    \n",
    "    boards = parent.find_elements_by_xpath('.//*')\n",
    "    \n",
    "    for i,board in enumerate(boards):\n",
    "        board_name =board.text\n",
    "        if board_name == index_type:\n",
    "            sheet = addHeaders(workbook,board_name,heads)\n",
    "            board.click()\n",
    "            time.sleep(3)\n",
    "            print(\"正在获取：\"+board_name+\"...\")\n",
    "            total_page = int(browser.find_element_by_xpath('//*[@id=\"miniPageNav\"]/b[4]/span').text)\n",
    "            for page in range(1,total_page+1):\n",
    "                for j in range(50):\n",
    "                    printProgress(\"第\"+str(page)+\"页-\"+\"第\"+str(j)+\"条...\")\n",
    "                    company = browser.find_element_by_xpath('//*[@id=\"dt_1\"]/tbody/tr['+str(j+1)+']/td[3]/a')\n",
    "                    code = browser.find_element_by_xpath('//*[@id=\"dt_1\"]/tbody/tr['+str(j+1)+']/td[2]/a')\n",
    "                    price = browser.find_element_by_xpath('//*[@id=\"dt_1\"]/tbody/tr['+str(j+1)+']/td[4]/span')\n",
    "                    \n",
    "                    row = (page-1)*50+1+j\n",
    "                    sheet.write(row,0,code.text)\n",
    "                    sheet.write(row,1,company.text)\n",
    "                    sheet.write(row,2,price.text)\n",
    "                    getBaseData(code.text,row,3,sheet)\n",
    "                \n",
    "                page_parent = browser.find_element_by_id(\"PageCont\") \n",
    "                page_btns = page_parent.find_elements_by_xpath('.//*')\n",
    "                subscript = 0\n",
    "                if (len(page_btns) >0)  & (page != total_page+1):\n",
    "                    for page_btn in page_btns:\n",
    "                        if page_btn.text == \"下一页\":\n",
    "                            subscript = page_btns.index(page_btn)\n",
    "                    page_btns[subscript].click()\n",
    "                    time.sleep(2)\n",
    "                    \n",
    "    browser.close()\n",
    "    browser.quit()\n"
   ]
  },
  {
   "cell_type": "code",
   "execution_count": null,
   "metadata": {
    "scrolled": false
   },
   "outputs": [
    {
     "name": "stdout",
     "output_type": "stream",
     "text": [
      "正在获取：沪深A股...请勿关闭浏览器\n",
      "第194页-第1条...."
     ]
    },
    {
     "name": "stderr",
     "output_type": "stream",
     "text": [
      "Traceback (most recent call last):\n",
      "  File \"E:\\wangtao\\PythonWorkSpace\\SpiderSpace\\Stock_Companies\\utils\\StockSpider.py\", line 103, in getStockDataByType\n",
      "    company = browser.find_element_by_xpath('//*[@id=\"table_wrapper-table\"]/tbody/tr['+str(j+1)+']/td[3]/a')\n",
      "  File \"D:\\Anaconda3\\lib\\site-packages\\selenium\\webdriver\\remote\\webdriver.py\", line 394, in find_element_by_xpath\n",
      "    return self.find_element(by=By.XPATH, value=xpath)\n",
      "  File \"D:\\Anaconda3\\lib\\site-packages\\selenium\\webdriver\\remote\\webdriver.py\", line 978, in find_element\n",
      "    'value': value})['value']\n",
      "  File \"D:\\Anaconda3\\lib\\site-packages\\selenium\\webdriver\\remote\\webdriver.py\", line 321, in execute\n",
      "    self.error_handler.check_response(response)\n",
      "  File \"D:\\Anaconda3\\lib\\site-packages\\selenium\\webdriver\\remote\\errorhandler.py\", line 242, in check_response\n",
      "    raise exception_class(message, screen, stacktrace)\n",
      "selenium.common.exceptions.NoSuchElementException: Message: no such element: Unable to locate element: {\"method\":\"xpath\",\"selector\":\"//*[@id=\"table_wrapper-table\"]/tbody/tr[2]/td[3]/a\"}\n",
      "  (Session info: chrome=78.0.3904.108)\n",
      "\n"
     ]
    }
   ],
   "source": [
    "dir_path = 'E:/wangtao/PythonWorkSpace/SpiderSpace/Stock_Companies/data/'\n",
    "# dir_path = 'D:/wt/PythonWorkSpace/DataAnalysis/Stock_Companies/data/'\n",
    "\n",
    "ss.getStockDataByType(dir_path)\n",
    "\n",
    "# getStockDataByType('上证A股')\n",
    "# workbook.save(dir_path+'上证A股.xls')\n",
    "\n",
    "# getStockDataByType('深证A股')\n",
    "# workbook.save(dir_path+'深证A股.xls')\n",
    "\n",
    "# getIndexStockByType('上证50')\n",
    "# workbook.save(dir_path+'上证50.xls')\n",
    "\n",
    "# getIndexStockByType('沪深300')\n",
    "# workbook.save(dir_path+'沪深300.xls')\n",
    "\n",
    "# getIndexStockByType('中证500')\n",
    "# workbook.save(dir_path+'中证500.xls')"
   ]
  },
  {
   "cell_type": "code",
   "execution_count": null,
   "metadata": {},
   "outputs": [],
   "source": []
  }
 ],
 "metadata": {
  "kernelspec": {
   "display_name": "Python 3",
   "language": "python",
   "name": "python3"
  },
  "language_info": {
   "codemirror_mode": {
    "name": "ipython",
    "version": 3
   },
   "file_extension": ".py",
   "mimetype": "text/x-python",
   "name": "python",
   "nbconvert_exporter": "python",
   "pygments_lexer": "ipython3",
   "version": "3.7.1"
  }
 },
 "nbformat": 4,
 "nbformat_minor": 2
}
